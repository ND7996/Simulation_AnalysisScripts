{
 "cells": [
  {
   "cell_type": "code",
   "execution_count": null,
   "metadata": {},
   "outputs": [],
   "source": [
    "from Bio.PDB import PDBParser, DSSP\n",
    "\n",
    "# Step 1: Parse the PDB file\n",
    "pdb_file_path = 'mousecys.pdb'         # Specify the input file path\n",
    "output_file_path = 'mousecyssasa.dat'  # Specify the output file path\n",
    "parser = PDBParser(QUIET=True)\n",
    "structure = parser.get_structure('protein', pdb_file_path)\n",
    "\n",
    "# Step 2: Check if the structure contains models\n",
    "if not structure:\n",
    "    raise ValueError(\"No model found in the PDB file.\")\n",
    "\n",
    "# Step 3: Select the first model (you may need to adjust this based on your PDB file)\n",
    "model = structure[0]\n",
    "\n",
    "# Step 4: Check if the model contains chains\n",
    "if not model:\n",
    "    raise ValueError(\"No chain found in the PDB file.\")\n",
    "\n",
    "# Step 5: Calculate DSSP (Define Secondary Structure of Proteins)\n",
    "try:\n",
    "    dssp = DSSP(model, pdb_file_path)\n",
    "except KeyError as e:\n",
    "    raise ValueError(f\"Error calculating DSSP: {e}\")\n",
    "\n",
    "# Step 6: Extract SASA values, filtering out 'NA'\n",
    "sasa_values = [float(aa[3]) if aa[3] != 'NA' else float('nan') for aa in dssp]\n",
    "\n",
    "# Step 7: Write SASA values to a file\n",
    "with open(output_file_path, 'w') as output_file:\n",
    "    for residue_id, sasa in zip(model.get_residues(), sasa_values):\n",
    "        output_file.write(f\"Residue {residue_id}: SASA = {sasa:.2f} Å²\\n\")\n",
    "\n",
    "print(f\"SASA values have been written to {output_file_path}\")"
   ]
  }
 ],
 "metadata": {
  "language_info": {
   "name": "python"
  }
 },
 "nbformat": 4,
 "nbformat_minor": 2
}
