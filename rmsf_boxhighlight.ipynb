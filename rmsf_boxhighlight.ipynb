{
 "cells": [
  {
   "cell_type": "code",
   "execution_count": null,
   "metadata": {},
   "outputs": [],
   "source": [
    "import matplotlib.pyplot as plt\n",
    "import numpy as np\n",
    "import glob\n",
    "import matplotlib.patches as patches\n",
    "\n",
    "\n",
    "# Specify the pattern for .dat files\n",
    "file_pattern = 'rmsfH*.dat'\n",
    "\n",
    "# Get a list of all .dat files that match the pattern\n",
    "file_list = glob.glob(file_pattern)\n",
    "\n",
    "# Set the figure size\n",
    "fig, ax = plt.subplots(figsize=(15, 8))\n",
    "\n",
    "# Define a list of RGB tuples for colors\n",
    "colors = ['red', 'purple']\n",
    "\n",
    "# Plot each file with a different color\n",
    "for index, (file_path, color) in enumerate(zip(file_list, colors), start=1):\n",
    "    # Load data from the file using numpy\n",
    "    data = np.loadtxt(file_path)\n",
    "\n",
    "    # Assuming the first column is x-axis data\n",
    "    x_values = data[:, 0]\n",
    "\n",
    "    # Assuming the remaining columns are y-axis data for different lines\n",
    "    y_values_list = data[:, 1:]\n",
    "\n",
    "    # Plot each line with a different color\n",
    "    for y_values in y_values_list.T:\n",
    "        ax.plot(x_values, y_values, label=f'Line {index} - {file_path}', color=color)\n",
    "\n",
    "# Add labels\n",
    "ax.set_xlabel('Residues')\n",
    "ax.set_ylabel('RMSF')\n",
    "\n",
    "# Add a shaded rectangle to highlight a region\n",
    "highlight_region = [5, 7]  \n",
    "\n",
    "highlight_boxes = [\n",
    "    patches.Rectangle((30, 5), 22, 8, linewidth=1, edgecolor='black', facecolor='none'),\n",
    "    patches.Rectangle((65, 5), 15, 6, linewidth=1, edgecolor='black', facecolor='none'),\n",
    "    patches.Rectangle((90, 15), 15, 8, linewidth=1, edgecolor='black', facecolor='none'),\n",
    "    patches.Rectangle((130,15), 20, 8, linewidth=1, edgecolor='black', facecolor='none'),\n",
    "    patches.Rectangle((150, 5), 20, 8, linewidth=1, edgecolor='black', facecolor='none'),\n",
    "    patches.Rectangle((5,15), 20, 8, linewidth=1, edgecolor='black', facecolor='none')\n",
    "]\n",
    "\n",
    "for box in highlight_boxes:\n",
    "     ax.add_patch(box)\n",
    "\n",
    "ax.legend()\n",
    "plt.show()"
   ]
  }
 ],
 "metadata": {
  "kernelspec": {
   "display_name": "AmberTools22",
   "language": "python",
   "name": "python3"
  },
  "language_info": {
   "codemirror_mode": {
    "name": "ipython",
    "version": 3
   },
   "file_extension": ".py",
   "mimetype": "text/x-python",
   "name": "python",
   "nbconvert_exporter": "python",
   "pygments_lexer": "ipython3",
   "version": "3.10.5"
  }
 },
 "nbformat": 4,
 "nbformat_minor": 2
}
